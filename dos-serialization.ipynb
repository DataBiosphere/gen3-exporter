{
 "cells": [
  {
   "cell_type": "markdown",
   "metadata": {},
   "source": [
    "# Towards a DOS Serializer\n",
    "\n",
    "This notebook builds a schema and instance of a serializer for generating DataBundles suitable for loading into a Data Object Service.\n",
    "\n",
    "First we take a version of the Data Object schema from the DOS API here: https://github.com/ga4gh/data-object-service-schemas/blob/master/openapi/data_object_service.swagger.yaml#L594\n",
    "\n",
    "With some small modifications: https://github.com/ga4gh/data-object-service-schemas/issues/82"
   ]
  },
  {
   "cell_type": "code",
   "execution_count": 2,
   "metadata": {},
   "outputs": [],
   "source": [
    "data_object_schema = {\n",
    "    'type': 'object',\n",
    "    'properties': {\n",
    "      'id': {\n",
    "        'type': 'string',\n",
    "        'description': 'REQUIRED\\nAn identifier unique to this Data Object.'\n",
    "      },\n",
    "      'name': {\n",
    "        'type': 'string',\n",
    "        'description': 'OPTIONAL\\nA string that can be optionally used to name a Data Object.'\n",
    "      },\n",
    "      'size': {\n",
    "        'type': 'string',\n",
    "        'format': 'int64',\n",
    "        'description': 'REQUIRED\\nThe computed size in bytes.'\n",
    "      },\n",
    "      'created': {\n",
    "        'type': 'string',\n",
    "        'format': 'date-time',\n",
    "        'description': 'REQUIRED\\nTimestamp of object creation in RFC3339.'\n",
    "      },\n",
    "      'updated': {\n",
    "        'type': 'string',\n",
    "        'format': 'date-time',\n",
    "        'description': 'OPTIONAL\\nTimestamp of update in RFC3339, identical to create timestamp in systems\\nthat do not support updates.'\n",
    "      },\n",
    "      'version': {\n",
    "        'type': 'string',\n",
    "        'description': 'OPTIONAL\\nA string representing a version.'\n",
    "      },\n",
    "      'mime_type': {\n",
    "        'type': 'string',\n",
    "        'description': 'OPTIONAL\\nA string providing the mime-type of the Data Object.\\nFor example, \\'application/json\\'.'\n",
    "      },\n",
    "      'checksums': {\n",
    "        'type': 'array',\n",
    "        'items': {\n",
    "              \"type\": \"object\",\n",
    "              \"properties\": {\n",
    "                \"checksum\": {\n",
    "                  \"type\": \"string\",\n",
    "                  \"description\": \"REQUIRED\\nThe hex-string encoded checksum for the Data.\"\n",
    "                },\n",
    "                \"type\": {\n",
    "                  \"type\": \"string\",\n",
    "                  \"description\": \"OPTIONAL\\nThe digest method used to create the checksum. If left unspecified md5\\nwill be assumed.\\n\\npossible values:\\nmd5                # most blob stores provide a checksum using this\\nmultipart-md5      # multipart uploads provide a specialized tag in S3\\nsha256\\nsha512\"\n",
    "                }\n",
    "              }\n",
    "            },\n",
    "\n",
    "        'description': 'REQUIRED\\nThe checksum of the Data Object. At least one checksum must be provided.'\n",
    "      },\n",
    "      'urls': {\n",
    "        'type': 'array',\n",
    "            'items': {\n",
    "            \"type\": \"object\",\n",
    "            \"properties\": {\n",
    "              \"url\": {\n",
    "                \"type\": \"string\",\n",
    "                \"description\": \"REQUIRED\\nA URL that can be used to access the file.\"\n",
    "              },\n",
    "              \"system_metadata\": {\n",
    "                  \"type\": \"object\",\n",
    "                  \"additionalProperties\": True,\n",
    "                  \"description\": \"OPTIONAL\\nThese values are reported by the underlying object store.\\nA set of key-value pairs that represent system metadata about the object.\"\n",
    "              },\n",
    "              \"user_metadata\": {\n",
    "                  \"type\": \"object\",\n",
    "                  \"additionalProperties\": True,\n",
    "                  \"description\": \"OPTIONAL\\nA set of key-value pairs that represent metadata provided by the uploader.\"\n",
    "                }\n",
    "            }\n",
    "        },\n",
    "        'description': 'OPTIONAL\\nThe list of URLs that can be used to access the Data Object.'\n",
    "      },\n",
    "      'description': {\n",
    "        'type': 'string',\n",
    "        'description': 'OPTIONAL\\nA human readable description of the contents of the Data Object.'\n",
    "      },\n",
    "      'aliases': {\n",
    "        'type': 'array',\n",
    "        'items': {\n",
    "          'type': 'string'\n",
    "        },\n",
    "        'description': \"OPTIONAL\\nA list of strings that can be used to find this Data Object.\\nThese aliases can be used to represent the Data Object's location in\\na directory (e.g. \\'bucket/folder/file.name\\') to make Data Objects\\nmore discoverable.\"\n",
    "      }\n",
    "    }\n",
    "  }\n",
    "\n",
    "\n"
   ]
  },
  {
   "cell_type": "markdown",
   "metadata": {},
   "source": [
    "Now the same thing for a Data Bundle."
   ]
  },
  {
   "cell_type": "code",
   "execution_count": 96,
   "metadata": {},
   "outputs": [],
   "source": [
    "data_bundle = {\n",
    "      \"type\": \"object\",\n",
    "      \"properties\": {\n",
    "        \"id\": {\n",
    "          \"type\": \"string\",\n",
    "          \"description\": \"REQUIRED\\nAn identifier, unique to this Data Bundle\"\n",
    "        },\n",
    "        \"data_object_ids\": {\n",
    "          \"type\": \"array\",\n",
    "          \"items\": {\n",
    "            \"type\": \"string\"\n",
    "          },\n",
    "          \"description\": \"REQUIRED\\nThe list of Data Objects that this Data Bundle contains.\"\n",
    "        },\n",
    "        \"created\": {\n",
    "          \"type\": \"string\",\n",
    "          \"format\": \"date-time\",\n",
    "          \"description\": \"REQUIRED\\nTimestamp of object creation in RFC3339.\"\n",
    "        },\n",
    "        \"updated\": {\n",
    "          \"type\": \"string\",\n",
    "          \"format\": \"date-time\",\n",
    "          \"description\": \"REQUIRED\\nTimestamp of update in RFC3339, identical to create timestamp in systems\\nthat do not support updates.\"\n",
    "        },\n",
    "        \"version\": {\n",
    "          \"type\": \"string\",\n",
    "          \"description\": \"REQUIRED\\nA string representing a version, some systems may use checksum, a RFC3339\\ntimestamp, or incrementing version number. For systems that do not support\\nversioning please use your update timestamp as your version.\"\n",
    "        },\n",
    "        'checksums': {\n",
    "            'type': 'array',\n",
    "            'items': {\n",
    "                  \"type\": \"object\",\n",
    "                  \"properties\": {\n",
    "                    \"checksum\": {\n",
    "                      \"type\": \"string\",\n",
    "                      \"description\": \"REQUIRED\\nThe hex-string encoded checksum for the Data.\"\n",
    "                    },\n",
    "                    \"type\": {\n",
    "                      \"type\": \"string\",\n",
    "                      \"description\": \"OPTIONAL\\nThe digest method used to create the checksum. If left unspecified md5\\nwill be assumed.\\n\\npossible values:\\nmd5                # most blob stores provide a checksum using this\\nmultipart-md5      # multipart uploads provide a specialized tag in S3\\nsha256\\nsha512\"\n",
    "                    }\n",
    "                  }\n",
    "                },\n",
    "        \"description\": \"REQUIRED\\nAt least one checksum must be provided.\\nThe data bundle checksum is computed over all the checksums of the\\nData Objects that bundle contains.\"\n",
    "      },\n",
    "        \"description\": {\n",
    "          \"type\": \"string\",\n",
    "          \"description\": \"OPTIONAL\\nA human readable description.\"\n",
    "        },\n",
    "        \"aliases\": {\n",
    "          \"type\": \"array\",\n",
    "          \"items\": {\n",
    "            \"type\": \"string\"\n",
    "          },\n",
    "          \"description\": \"OPTIONAL\\nA list of strings that can be used to identify this Data Bundle.\"\n",
    "        },\n",
    "        \"system_metadata\": {\n",
    "          \"type\": \"object\",\n",
    "          \"additionalProperties\": True,\n",
    "          \"description\": \"OPTIONAL\\nThese values are reported by the underlying object store.\\nA set of key-value pairs that represent system metadata about the object.\"\n",
    "        },\n",
    "        \"user_metadata\": {\n",
    "              \"type\": \"object\",\n",
    "              \"additionalProperties\": True,\n",
    "              \"description\": \"OPTIONAL\\nA set of key-value pairs that represent metadata provided by the uploader.\"\n",
    "          }\n",
    "        }\n",
    "    \n",
    "}"
   ]
  },
  {
   "cell_type": "markdown",
   "metadata": {},
   "source": [
    "## Putting them together\n",
    "\n",
    "We can now make a simple schema that combines them. It assumes that all Data Objects defined in Data Bundles are defined in the Data Objects map."
   ]
  },
  {
   "cell_type": "code",
   "execution_count": 97,
   "metadata": {},
   "outputs": [],
   "source": [
    "schema = {\n",
    "    'type': 'object',\n",
    "    'properties': {\n",
    "        'data_objects': {\n",
    "            'type': 'object',\n",
    "             'additionalProperties': {'type': data_object_schema},\n",
    "             'description': 'A map of Data Object Identifiers to Data Objects'\n",
    "        },\n",
    "        'data_bundles': {\n",
    "            'type': 'object',\n",
    "              \"additionalProperties\": data_bundle,\n",
    "             'description': 'A map of Data Bundle Identifiers to Data Bundle'\n",
    "        }\n",
    "    },\n",
    "}"
   ]
  },
  {
   "cell_type": "markdown",
   "metadata": {},
   "source": [
    "## Making an instance\n",
    "\n",
    "Now we can make an instance of our schema with the help of the DOS client."
   ]
  },
  {
   "cell_type": "code",
   "execution_count": 98,
   "metadata": {},
   "outputs": [],
   "source": [
    "from ga4gh.dos.client import Client"
   ]
  },
  {
   "cell_type": "code",
   "execution_count": 99,
   "metadata": {},
   "outputs": [],
   "source": [
    "c = Client(\"https://dos-gdc.ucsc-cgp-dev.org\")"
   ]
  },
  {
   "cell_type": "code",
   "execution_count": 100,
   "metadata": {},
   "outputs": [],
   "source": [
    "client = c.client\n",
    "models = c.models"
   ]
  },
  {
   "cell_type": "code",
   "execution_count": 101,
   "metadata": {},
   "outputs": [],
   "source": [
    "DataBundle = models.get_model('DataBundle')\n",
    "DataObject = models.get_model('DataObject')"
   ]
  },
  {
   "cell_type": "code",
   "execution_count": 102,
   "metadata": {},
   "outputs": [
    {
     "name": "stdout",
     "output_type": "stream",
     "text": [
      "{u'version': 'foo', u'id': 'test-id'}\n"
     ]
    }
   ],
   "source": [
    "my_data_bundle = DataBundle(id='test-id')\n",
    "my_data_bundle.version = 'foo' # FIXME shouldn't validate\n",
    "print(my_data_bundle.marshal())"
   ]
  },
  {
   "cell_type": "code",
   "execution_count": 103,
   "metadata": {},
   "outputs": [],
   "source": [
    "instance = {\n",
    "    'data_bundles': {\n",
    "        'test': DataBundle(id='test-bundle', data_object_ids=['test-object']).marshal()\n",
    "    },\n",
    "    'data_objects': {\n",
    "        'test-object': DataObject(id='test-object').marshal()\n",
    "    }\n",
    "}"
   ]
  },
  {
   "cell_type": "code",
   "execution_count": 104,
   "metadata": {},
   "outputs": [
    {
     "name": "stdout",
     "output_type": "stream",
     "text": [
      "{\n",
      "    \"data_bundles\": {\n",
      "        \"test\": {\n",
      "            \"id\": \"test-bundle\", \n",
      "            \"data_object_ids\": [\n",
      "                \"test-object\"\n",
      "            ]\n",
      "        }\n",
      "    }, \n",
      "    \"data_objects\": {\n",
      "        \"test-object\": {\n",
      "            \"id\": \"test-object\"\n",
      "        }\n",
      "    }\n",
      "}\n"
     ]
    }
   ],
   "source": [
    "import json\n",
    "print(json.dumps(instance, indent=4))"
   ]
  },
  {
   "cell_type": "markdown",
   "metadata": {},
   "source": [
    "## JSON Schemas validation\n",
    "\n",
    "Let's try to do some simple validation."
   ]
  },
  {
   "cell_type": "code",
   "execution_count": 105,
   "metadata": {},
   "outputs": [],
   "source": [
    "import jsonschema"
   ]
  },
  {
   "cell_type": "code",
   "execution_count": 106,
   "metadata": {},
   "outputs": [],
   "source": [
    "schema_validator = jsonschema.Draft3Validator"
   ]
  },
  {
   "cell_type": "code",
   "execution_count": 108,
   "metadata": {},
   "outputs": [
    {
     "ename": "SchemaError",
     "evalue": "{'type': {'type': 'object', 'properties': {'updated': {'type': 'string', 'description': 'OPTIONAL\\nTimestamp of update in RFC3339, identical to create timestamp in systems\\nthat do not support updates.', 'format': 'date-time'}, 'description': {'type': 'string', 'description': 'OPTIONAL\\nA human readable description of the contents of the Data Object.'}, 'checksums': {'items': {'type': 'object', 'properties': {'checksum': {'type': 'string', 'description': 'REQUIRED\\nThe hex-string encoded checksum for the Data.'}, 'type': {'type': 'string', 'description': 'OPTIONAL\\nThe digest method used to create the checksum. If left unspecified md5\\nwill be assumed.\\n\\npossible values:\\nmd5                # most blob stores provide a checksum using this\\nmultipart-md5      # multipart uploads provide a specialized tag in S3\\nsha256\\nsha512'}}}, 'type': 'array', 'description': 'REQUIRED\\nThe checksum of the Data Object. At least one checksum must be provided.'}, 'id': {'type': 'string', 'description': 'REQUIRED\\nAn identifier unique to this Data Object.'}, 'aliases': {'items': {'type': 'string'}, 'type': 'array', 'description': \"OPTIONAL\\nA list of strings that can be used to find this Data Object.\\nThese aliases can be used to represent the Data Object's location in\\na directory (e.g. 'bucket/folder/file.name') to make Data Objects\\nmore discoverable.\"}, 'name': {'type': 'string', 'description': 'OPTIONAL\\nA string that can be optionally used to name a Data Object.'}, 'created': {'type': 'string', 'description': 'REQUIRED\\nTimestamp of object creation in RFC3339.', 'format': 'date-time'}, 'version': {'type': 'string', 'description': 'OPTIONAL\\nA string representing a version.'}, 'urls': {'items': {'type': 'object', 'properties': {'url': {'type': 'string', 'description': 'REQUIRED\\nA URL that can be used to access the file.'}, 'system_metadata': {'additionalProperties': True, 'type': 'object', 'description': 'OPTIONAL\\nThese values are reported by the underlying object store.\\nA set of key-value pairs that represent system metadata about the object.'}, 'user_metadata': {'additionalProperties': True, 'type': 'object', 'description': 'OPTIONAL\\nA set of key-value pairs that represent metadata provided by the uploader.'}}}, 'type': 'array', 'description': 'OPTIONAL\\nThe list of URLs that can be used to access the Data Object.'}, 'size': {'type': 'string', 'description': 'REQUIRED\\nThe computed size in bytes.', 'format': 'int64'}, 'mime_type': {'type': 'string', 'description': \"OPTIONAL\\nA string providing the mime-type of the Data Object.\\nFor example, 'application/json'.\"}}}} is not of type {u'$ref': u'#'}, u'boolean'\n\nFailed validating u'type' in schema[u'properties'][u'properties'][u'additionalProperties'][u'properties'][u'additionalProperties']:\n    {u'default': {}, u'type': [{u'$ref': u'#'}, u'boolean']}\n\nOn instance[u'properties']['data_objects'][u'additionalProperties']:\n    {'type': {'properties': {'aliases': {'description': \"OPTIONAL\\nA list of strings that can be used to find this Data Object.\\nThese aliases can be used to represent the Data Object's location in\\na directory (e.g. 'bucket/folder/file.name') to make Data Objects\\nmore discoverable.\",\n                                         'items': {'type': 'string'},\n                                         'type': 'array'},\n                             'checksums': {'description': 'REQUIRED\\nThe checksum of the Data Object. At least one checksum must be provided.',\n                                           'items': {'properties': {'checksum': {'description': 'REQUIRED\\nThe hex-string encoded checksum for the Data.',\n                                                                                 'type': 'string'},\n                                                                    'type': {'description': 'OPTIONAL\\nThe digest method used to create the checksum. If left unspecified md5\\nwill be assumed.\\n\\npossible values:\\nmd5                # most blob stores provide a checksum using this\\nmultipart-md5      # multipart uploads provide a specialized tag in S3\\nsha256\\nsha512',\n                                                                             'type': 'string'}},\n                                                     'type': 'object'},\n                                           'type': 'array'},\n                             'created': {'description': 'REQUIRED\\nTimestamp of object creation in RFC3339.',\n                                         'format': 'date-time',\n                                         'type': 'string'},\n                             'description': {'description': 'OPTIONAL\\nA human readable description of the contents of the Data Object.',\n                                             'type': 'string'},\n                             'id': {'description': 'REQUIRED\\nAn identifier unique to this Data Object.',\n                                    'type': 'string'},\n                             'mime_type': {'description': \"OPTIONAL\\nA string providing the mime-type of the Data Object.\\nFor example, 'application/json'.\",\n                                           'type': 'string'},\n                             'name': {'description': 'OPTIONAL\\nA string that can be optionally used to name a Data Object.',\n                                      'type': 'string'},\n                             'size': {'description': 'REQUIRED\\nThe computed size in bytes.',\n                                      'format': 'int64',\n                                      'type': 'string'},\n                             'updated': {'description': 'OPTIONAL\\nTimestamp of update in RFC3339, identical to create timestamp in systems\\nthat do not support updates.',\n                                         'format': 'date-time',\n                                         'type': 'string'},\n                             'urls': {'description': 'OPTIONAL\\nThe list of URLs that can be used to access the Data Object.',\n                                      'items': {'properties': {'system_metadata': {'additionalProperties': True,\n                                                                                   'description': 'OPTIONAL\\nThese values are reported by the underlying object store.\\nA set of key-value pairs that represent system metadata about the object.',\n                                                                                   'type': 'object'},\n                                                               'url': {'description': 'REQUIRED\\nA URL that can be used to access the file.',\n                                                                       'type': 'string'},\n                                                               'user_metadata': {'additionalProperties': True,\n                                                                                 'description': 'OPTIONAL\\nA set of key-value pairs that represent metadata provided by the uploader.',\n                                                                                 'type': 'object'}},\n                                                'type': 'object'},\n                                      'type': 'array'},\n                             'version': {'description': 'OPTIONAL\\nA string representing a version.',\n                                         'type': 'string'}},\n              'type': 'object'}}",
     "output_type": "error",
     "traceback": [
      "\u001b[0;31m---------------------------------------------------------------------------\u001b[0m",
      "\u001b[0;31mSchemaError\u001b[0m                               Traceback (most recent call last)",
      "\u001b[0;32m<ipython-input-108-6f48f35b765e>\u001b[0m in \u001b[0;36m<module>\u001b[0;34m()\u001b[0m\n\u001b[0;32m----> 1\u001b[0;31m \u001b[0mschema_validator\u001b[0m\u001b[0;34m.\u001b[0m\u001b[0mcheck_schema\u001b[0m\u001b[0;34m(\u001b[0m\u001b[0mschema\u001b[0m\u001b[0;34m)\u001b[0m\u001b[0;34m\u001b[0m\u001b[0m\n\u001b[0m",
      "\u001b[0;32m/home/david/.local/lib/python2.7/site-packages/jsonschema/validators.pyc\u001b[0m in \u001b[0;36mcheck_schema\u001b[0;34m(cls, schema)\u001b[0m\n\u001b[1;32m     81\u001b[0m         \u001b[0;32mdef\u001b[0m \u001b[0mcheck_schema\u001b[0m\u001b[0;34m(\u001b[0m\u001b[0mcls\u001b[0m\u001b[0;34m,\u001b[0m \u001b[0mschema\u001b[0m\u001b[0;34m)\u001b[0m\u001b[0;34m:\u001b[0m\u001b[0;34m\u001b[0m\u001b[0m\n\u001b[1;32m     82\u001b[0m             \u001b[0;32mfor\u001b[0m \u001b[0merror\u001b[0m \u001b[0;32min\u001b[0m \u001b[0mcls\u001b[0m\u001b[0;34m(\u001b[0m\u001b[0mcls\u001b[0m\u001b[0;34m.\u001b[0m\u001b[0mMETA_SCHEMA\u001b[0m\u001b[0;34m)\u001b[0m\u001b[0;34m.\u001b[0m\u001b[0miter_errors\u001b[0m\u001b[0;34m(\u001b[0m\u001b[0mschema\u001b[0m\u001b[0;34m)\u001b[0m\u001b[0;34m:\u001b[0m\u001b[0;34m\u001b[0m\u001b[0m\n\u001b[0;32m---> 83\u001b[0;31m                 \u001b[0;32mraise\u001b[0m \u001b[0mSchemaError\u001b[0m\u001b[0;34m.\u001b[0m\u001b[0mcreate_from\u001b[0m\u001b[0;34m(\u001b[0m\u001b[0merror\u001b[0m\u001b[0;34m)\u001b[0m\u001b[0;34m\u001b[0m\u001b[0m\n\u001b[0m\u001b[1;32m     84\u001b[0m \u001b[0;34m\u001b[0m\u001b[0m\n\u001b[1;32m     85\u001b[0m         \u001b[0;32mdef\u001b[0m \u001b[0miter_errors\u001b[0m\u001b[0;34m(\u001b[0m\u001b[0mself\u001b[0m\u001b[0;34m,\u001b[0m \u001b[0minstance\u001b[0m\u001b[0;34m,\u001b[0m \u001b[0m_schema\u001b[0m\u001b[0;34m=\u001b[0m\u001b[0mNone\u001b[0m\u001b[0;34m)\u001b[0m\u001b[0;34m:\u001b[0m\u001b[0;34m\u001b[0m\u001b[0m\n",
      "\u001b[0;31mSchemaError\u001b[0m: {'type': {'type': 'object', 'properties': {'updated': {'type': 'string', 'description': 'OPTIONAL\\nTimestamp of update in RFC3339, identical to create timestamp in systems\\nthat do not support updates.', 'format': 'date-time'}, 'description': {'type': 'string', 'description': 'OPTIONAL\\nA human readable description of the contents of the Data Object.'}, 'checksums': {'items': {'type': 'object', 'properties': {'checksum': {'type': 'string', 'description': 'REQUIRED\\nThe hex-string encoded checksum for the Data.'}, 'type': {'type': 'string', 'description': 'OPTIONAL\\nThe digest method used to create the checksum. If left unspecified md5\\nwill be assumed.\\n\\npossible values:\\nmd5                # most blob stores provide a checksum using this\\nmultipart-md5      # multipart uploads provide a specialized tag in S3\\nsha256\\nsha512'}}}, 'type': 'array', 'description': 'REQUIRED\\nThe checksum of the Data Object. At least one checksum must be provided.'}, 'id': {'type': 'string', 'description': 'REQUIRED\\nAn identifier unique to this Data Object.'}, 'aliases': {'items': {'type': 'string'}, 'type': 'array', 'description': \"OPTIONAL\\nA list of strings that can be used to find this Data Object.\\nThese aliases can be used to represent the Data Object's location in\\na directory (e.g. 'bucket/folder/file.name') to make Data Objects\\nmore discoverable.\"}, 'name': {'type': 'string', 'description': 'OPTIONAL\\nA string that can be optionally used to name a Data Object.'}, 'created': {'type': 'string', 'description': 'REQUIRED\\nTimestamp of object creation in RFC3339.', 'format': 'date-time'}, 'version': {'type': 'string', 'description': 'OPTIONAL\\nA string representing a version.'}, 'urls': {'items': {'type': 'object', 'properties': {'url': {'type': 'string', 'description': 'REQUIRED\\nA URL that can be used to access the file.'}, 'system_metadata': {'additionalProperties': True, 'type': 'object', 'description': 'OPTIONAL\\nThese values are reported by the underlying object store.\\nA set of key-value pairs that represent system metadata about the object.'}, 'user_metadata': {'additionalProperties': True, 'type': 'object', 'description': 'OPTIONAL\\nA set of key-value pairs that represent metadata provided by the uploader.'}}}, 'type': 'array', 'description': 'OPTIONAL\\nThe list of URLs that can be used to access the Data Object.'}, 'size': {'type': 'string', 'description': 'REQUIRED\\nThe computed size in bytes.', 'format': 'int64'}, 'mime_type': {'type': 'string', 'description': \"OPTIONAL\\nA string providing the mime-type of the Data Object.\\nFor example, 'application/json'.\"}}}} is not of type {u'$ref': u'#'}, u'boolean'\n\nFailed validating u'type' in schema[u'properties'][u'properties'][u'additionalProperties'][u'properties'][u'additionalProperties']:\n    {u'default': {}, u'type': [{u'$ref': u'#'}, u'boolean']}\n\nOn instance[u'properties']['data_objects'][u'additionalProperties']:\n    {'type': {'properties': {'aliases': {'description': \"OPTIONAL\\nA list of strings that can be used to find this Data Object.\\nThese aliases can be used to represent the Data Object's location in\\na directory (e.g. 'bucket/folder/file.name') to make Data Objects\\nmore discoverable.\",\n                                         'items': {'type': 'string'},\n                                         'type': 'array'},\n                             'checksums': {'description': 'REQUIRED\\nThe checksum of the Data Object. At least one checksum must be provided.',\n                                           'items': {'properties': {'checksum': {'description': 'REQUIRED\\nThe hex-string encoded checksum for the Data.',\n                                                                                 'type': 'string'},\n                                                                    'type': {'description': 'OPTIONAL\\nThe digest method used to create the checksum. If left unspecified md5\\nwill be assumed.\\n\\npossible values:\\nmd5                # most blob stores provide a checksum using this\\nmultipart-md5      # multipart uploads provide a specialized tag in S3\\nsha256\\nsha512',\n                                                                             'type': 'string'}},\n                                                     'type': 'object'},\n                                           'type': 'array'},\n                             'created': {'description': 'REQUIRED\\nTimestamp of object creation in RFC3339.',\n                                         'format': 'date-time',\n                                         'type': 'string'},\n                             'description': {'description': 'OPTIONAL\\nA human readable description of the contents of the Data Object.',\n                                             'type': 'string'},\n                             'id': {'description': 'REQUIRED\\nAn identifier unique to this Data Object.',\n                                    'type': 'string'},\n                             'mime_type': {'description': \"OPTIONAL\\nA string providing the mime-type of the Data Object.\\nFor example, 'application/json'.\",\n                                           'type': 'string'},\n                             'name': {'description': 'OPTIONAL\\nA string that can be optionally used to name a Data Object.',\n                                      'type': 'string'},\n                             'size': {'description': 'REQUIRED\\nThe computed size in bytes.',\n                                      'format': 'int64',\n                                      'type': 'string'},\n                             'updated': {'description': 'OPTIONAL\\nTimestamp of update in RFC3339, identical to create timestamp in systems\\nthat do not support updates.',\n                                         'format': 'date-time',\n                                         'type': 'string'},\n                             'urls': {'description': 'OPTIONAL\\nThe list of URLs that can be used to access the Data Object.',\n                                      'items': {'properties': {'system_metadata': {'additionalProperties': True,\n                                                                                   'description': 'OPTIONAL\\nThese values are reported by the underlying object store.\\nA set of key-value pairs that represent system metadata about the object.',\n                                                                                   'type': 'object'},\n                                                               'url': {'description': 'REQUIRED\\nA URL that can be used to access the file.',\n                                                                       'type': 'string'},\n                                                               'user_metadata': {'additionalProperties': True,\n                                                                                 'description': 'OPTIONAL\\nA set of key-value pairs that represent metadata provided by the uploader.',\n                                                                                 'type': 'object'}},\n                                                'type': 'object'},\n                                      'type': 'array'},\n                             'version': {'description': 'OPTIONAL\\nA string representing a version.',\n                                         'type': 'string'}},\n              'type': 'object'}}"
     ]
    }
   ],
   "source": [
    "schema_validator.check_schema(schema)"
   ]
  },
  {
   "cell_type": "code",
   "execution_count": null,
   "metadata": {},
   "outputs": [],
   "source": [
    "instance_validator = jsonschema.Draft3Validator(schema)"
   ]
  },
  {
   "cell_type": "code",
   "execution_count": 81,
   "metadata": {},
   "outputs": [
    {
     "ename": "NameError",
     "evalue": "name 'instance_validator' is not defined",
     "output_type": "error",
     "traceback": [
      "\u001b[0;31m---------------------------------------------------------------------------\u001b[0m",
      "\u001b[0;31mNameError\u001b[0m                                 Traceback (most recent call last)",
      "\u001b[0;32m<ipython-input-81-ae587f1be4d7>\u001b[0m in \u001b[0;36m<module>\u001b[0;34m()\u001b[0m\n\u001b[0;32m----> 1\u001b[0;31m \u001b[0minstance_validator\u001b[0m\u001b[0;34m.\u001b[0m\u001b[0mvalidate\u001b[0m\u001b[0;34m(\u001b[0m\u001b[0minstance\u001b[0m\u001b[0;34m)\u001b[0m\u001b[0;34m\u001b[0m\u001b[0m\n\u001b[0m",
      "\u001b[0;31mNameError\u001b[0m: name 'instance_validator' is not defined"
     ]
    }
   ],
   "source": [
    "instance_validator.validate(instance)"
   ]
  },
  {
   "cell_type": "code",
   "execution_count": null,
   "metadata": {},
   "outputs": [],
   "source": []
  }
 ],
 "metadata": {
  "kernelspec": {
   "display_name": "Python 2",
   "language": "python",
   "name": "python2"
  },
  "language_info": {
   "codemirror_mode": {
    "name": "ipython",
    "version": 2
   },
   "file_extension": ".py",
   "mimetype": "text/x-python",
   "name": "python",
   "nbconvert_exporter": "python",
   "pygments_lexer": "ipython2",
   "version": "2.7.15rc1"
  }
 },
 "nbformat": 4,
 "nbformat_minor": 2
}
